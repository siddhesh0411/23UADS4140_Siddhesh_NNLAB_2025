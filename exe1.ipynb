{
 "cells": [
  {
   "cell_type": "code",
   "execution_count": 2,
   "metadata": {},
   "outputs": [
    {
     "name": "stdout",
     "output_type": "stream",
     "text": [
      "\n",
      "NAND Perceptron Outputs:\n",
      "Input: [0 0] -> Output: 1\n",
      "Input: [0 1] -> Output: 1\n",
      "Input: [1 0] -> Output: 1\n",
      "Input: [1 1] -> Output: 0\n",
      "\n",
      "XOR Perceptron Outputs (expected incorrect results):\n",
      "Input: [0 0] -> Output: 1\n",
      "Input: [0 1] -> Output: 1\n",
      "Input: [1 0] -> Output: 0\n",
      "Input: [1 1] -> Output: 0\n"
     ]
    }
   ],
   "source": [
    "\"\"\"Experiment 1: WAP to implement the Perceptron Learning Algorithm using numpy in Python. \n",
    "               Evaluate performance of a single perceptron for NAND and XOR truth tables as input dataset. \n",
    "\n",
    "objectve:\n",
    "\n",
    "To implement the Perceptron Learning Algorithm using NumPy in Python and evaluate its performance on NAND and XOR truth tables.\n",
    "Description of the Model\n",
    "•\tA single-layer perceptron is implemented.\n",
    "•\tThe perceptron updates its weights using the perceptron learning rule.\n",
    "•\tThe NAND function is linearly separable, whereas XOR is not.\"\"\"\n",
    "\n",
    "\n",
    "\n",
    "#PYTHON CODE:\n",
    "\n",
    "import numpy as np\n",
    "\n",
    "def perceptron(X, y, lr=0.1, epochs=10):\n",
    "    weights = np.zeros(X.shape[1] + 1)  # Including bias\n",
    "    \n",
    "    for _ in range(epochs):\n",
    "        for i, x in enumerate(X):\n",
    "            x_with_bias = np.insert(x, 0, 1)\n",
    "            y_pred = np.dot(x_with_bias, weights) >= 0\n",
    "            update = lr * (y[i] - y_pred)\n",
    "            weights += update * x_with_bias\n",
    "    \n",
    "    return weights\n",
    "\n",
    "def predict(X, weights):\n",
    "    outputs = []\n",
    "    for x in X:\n",
    "        x_with_bias = np.insert(x, 0, 1)\n",
    "        y_pred = np.dot(x_with_bias, weights) >= 0\n",
    "        outputs.append(int(y_pred))\n",
    "    return outputs\n",
    "\n",
    "# NAND dataset\n",
    "X_nand = np.array([[0, 0], [0, 1], [1, 0], [1, 1]])\n",
    "y_nand = np.array([1, 1, 1, 0])\n",
    "weights_nand = perceptron(X_nand, y_nand)\n",
    "outputs_nand = predict(X_nand, weights_nand)\n",
    "\n",
    "print(\"\\nNAND Perceptron Outputs:\")\n",
    "for i, x in enumerate(X_nand):\n",
    "    print(f\"Input: {x} -> Output: {outputs_nand[i]}\")\n",
    "\n",
    "# XOR dataset (Perceptron won't work properly)\n",
    "X_xor = np.array([[0, 0], [0, 1], [1, 0], [1, 1]])\n",
    "y_xor = np.array([0, 1, 1, 0])\n",
    "weights_xor = perceptron(X_xor, y_xor)\n",
    "outputs_xor = predict(X_xor, weights_xor)\n",
    "\n",
    "print(\"\\nXOR Perceptron Outputs (expected incorrect results):\")\n",
    "for i, x in enumerate(X_xor):\n",
    "    print(f\"Input: {x} -> Output: {outputs_xor[i]}\")\n",
    "\n",
    "\n",
    "\n",
    "\n"
   ]
  },
  {
   "cell_type": "code",
   "execution_count": null,
   "metadata": {},
   "outputs": [],
   "source": [
    "\"\"\"\n",
    "Description of Code\n",
    "•\tThe perceptron function initializes weights and updates them iteratively.\n",
    "•\tThe NAND function is learned properly, but the XOR function fails since it's not linearly separable.\n",
    "Performance Evaluation\n",
    "•\tAccuracy: Evaluated based on correct classifications.\n",
    "•\tConfusion Matrix: Not applicable for a simple perceptron.\n",
    "•\tLoss Curve: Not visualized but would indicate failure to converge for XOR.\n",
    "My Comments\n",
    "•\tThe XOR limitation can be overcome using a multi-layer perceptron (MLP), \n",
    "        which introduces a hidden layer for non-linear transformations.\n",
    "\"\"\""
   ]
  }
 ],
 "metadata": {
  "kernelspec": {
   "display_name": "Python 3",
   "language": "python",
   "name": "python3"
  },
  "language_info": {
   "codemirror_mode": {
    "name": "ipython",
    "version": 3
   },
   "file_extension": ".py",
   "mimetype": "text/x-python",
   "name": "python",
   "nbconvert_exporter": "python",
   "pygments_lexer": "ipython3",
   "version": "3.11.5"
  }
 },
 "nbformat": 4,
 "nbformat_minor": 2
}
